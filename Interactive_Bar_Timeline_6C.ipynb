{
 "cells": [
  {
   "cell_type": "code",
   "execution_count": 8,
   "metadata": {},
   "outputs": [],
   "source": [
    "\"\"\"Importing all relevant packages.\"\"\"\n",
    "\n",
    "import pandas as pd\n",
    "from bokeh.core.properties import value\n",
    "from bokeh.io import show, output_file\n",
    "from bokeh.models import ColumnDataSource\n",
    "from bokeh.plotting import figure\n",
    "from bokeh.transform import dodge\n",
    "from bokeh.models import Panel, Tabs\n",
    "from bokeh.io import output_file, show\n",
    "from bokeh.plotting import figure\n",
    "import time"
   ]
  },
  {
   "cell_type": "code",
   "execution_count": 10,
   "metadata": {},
   "outputs": [
    {
     "name": "stdout",
     "output_type": "stream",
     "text": [
      "--- 25.59538507461548 seconds ---\n"
     ]
    }
   ],
   "source": [
    "\"\"\"Reading the relevants datasets into a Pandas dataframes.\"\"\"\n",
    "\n",
    "start_time = time.time()\n",
    "\n",
    "birth_data = pd.read_csv(\"Datasets/Birth.csv\")\n",
    "marriage_data = pd.read_csv(\"Datasets/Marriage.csv\")\n",
    "death_data = pd.read_csv(\"Datasets/Death.csv\")\n",
    "\n",
    "print(\"--- %s seconds ---\" % (time.time() - start_time))"
   ]
  },
  {
   "cell_type": "code",
   "execution_count": 3,
   "metadata": {},
   "outputs": [
    {
     "name": "stdout",
     "output_type": "stream",
     "text": [
      "Size of the whole dataset: 2456738\n",
      "Size of the dataset after dropping NaNs: 820705\n"
     ]
    }
   ],
   "source": [
    "\"\"\"Preprocessing the death data and adjusting the dataframe. Since, there are a few years in the beginning \n",
    "which have very little count, I consider them as outliers and that is why I have removed them. \"\"\"\n",
    "\n",
    "df_year = birth_data[[\"Year\"]]\n",
    "print(\"Size of the whole dataset:\",len(df_year))\n",
    "df_year = df_year.dropna()\n",
    "print(\"Size of the dataset after dropping NaNs:\",len(df_year))\n",
    "\n",
    "year_freq = df_year.Year.value_counts().to_frame()  # new dataframe for births per year\n",
    "\n",
    "year_freq = year_freq.rename(columns={\"Year\": \"Count\"})\n",
    "year_freq[\"Year\"] = year_freq.index\n",
    "year_freq.sort_values(by=['Year'], inplace=True)  # sorting the years in ascending order\n",
    "year_freq = year_freq.reset_index()\n",
    "year_freq = year_freq.drop([\"index\"], axis=1)\n",
    "year_freq[\"Year\"] = year_freq[\"Year\"].astype(int)\n",
    "\n",
    "year_freq = year_freq[year_freq[\"Count\"]>50]  # removing years with less than 50 deaths\n",
    "year_freq = year_freq.reset_index()\n",
    "year_freq = year_freq.drop([\"index\"], axis=1)"
   ]
  },
  {
   "cell_type": "code",
   "execution_count": 4,
   "metadata": {},
   "outputs": [
    {
     "name": "stdout",
     "output_type": "stream",
     "text": [
      "Amount of people that the data shows are married to themselves: 480461\n"
     ]
    }
   ],
   "source": [
    "\"\"\"Preprocessing the marriage data, keeping only the variables that are needed for the visualization purpose\n",
    "and adjusting the dataframe.\"\"\"\n",
    "\n",
    "df_marriage = marriage_data[[\"Person id\", \"Connection\", \"Event Year\"]]  # keeping only relevant variables\n",
    "\n",
    "print(\"Amount of people that the data shows are married to themselves:\",\n",
    "      len(df_marriage[df_marriage[\"Person id\"] == df_marriage[\"Connection\"]]))\n",
    "\n",
    "df_marriage = df_marriage[df_marriage[\"Person id\"] != df_marriage[\"Connection\"]]  # removing self-married people\n",
    "\n",
    "df_marriage[\"Year\"] = df_marriage[\"Event Year\"]\n",
    "\n",
    "marriage_freq = df_marriage.Year.value_counts().to_frame()  # new dataframe for marriages per year\n",
    "\n",
    "marriage_freq = marriage_freq.rename(columns={\"Year\": \"Count\"})\n",
    "marriage_freq[\"Year\"] = marriage_freq.index\n",
    "marriage_freq.sort_values(by=['Year'], inplace=True)  # sorting the years in ascending order\n",
    "marriage_freq = marriage_freq.reset_index()\n",
    "marriage_freq = marriage_freq.drop([\"index\"], axis=1)\n",
    "marriage_freq[\"Year\"] = marriage_freq[\"Year\"].astype(int)\n",
    "\n",
    "marriage_freq = marriage_freq[marriage_freq[\"Count\"]>50]  # removing years with less than 50 marriages\n",
    "marriage_freq = marriage_freq.reset_index()\n",
    "marriage_freq = marriage_freq.drop([\"index\"], axis=1)"
   ]
  },
  {
   "cell_type": "code",
   "execution_count": 5,
   "metadata": {
    "scrolled": true
   },
   "outputs": [
    {
     "name": "stdout",
     "output_type": "stream",
     "text": [
      "Size of the whole dataset: 440339\n",
      "Size of the dataset after dropping NaNs: 173592\n"
     ]
    }
   ],
   "source": [
    "\"\"\"Preprocessing the death data and adjusting the dataframe. Since, there are a few years in the beginning \n",
    "which have very little count, I consider them as outliers and that is why I have removed them. \"\"\"\n",
    "\n",
    "df_death = death_data[[\"Year\"]]\n",
    "print(\"Size of the whole dataset:\",len(df_death))\n",
    "df_death = death_data.dropna()  # removing all missing values\n",
    "print(\"Size of the dataset after dropping NaNs:\",len(df_death))\n",
    "\n",
    "death_freq = df_death.Year.value_counts().to_frame()  # new dataframe for deaths per year\n",
    "\n",
    "death_freq = death_freq.rename(columns={\"Year\": \"Count\"})\n",
    "death_freq[\"Year\"] = death_freq.index\n",
    "death_freq.sort_values(by=['Year'], inplace=True)  # sorting the years in ascending order\n",
    "death_freq = death_freq.reset_index()\n",
    "death_freq = death_freq.drop([\"index\"], axis=1)\n",
    "death_freq[\"Year\"] = death_freq[\"Year\"].astype(int)\n",
    "\n",
    "death_freq = death_freq[death_freq[\"Count\"]>50]  # removing years with less than 50 marriages\n",
    "death_freq = death_freq.reset_index()\n",
    "death_freq = death_freq.drop([\"index\"], axis=1)"
   ]
  },
  {
   "cell_type": "code",
   "execution_count": 6,
   "metadata": {},
   "outputs": [],
   "source": [
    "\"\"\"Making an interactive timeline visualization using the Bokeh library.\"\"\"\n",
    "\n",
    "output_file(\"bars.html\")\n",
    "\n",
    "years = year_freq[\"Year\"].tolist()\n",
    "year_counts = year_freq[\"Count\"].tolist()\n",
    "marriages = marriage_freq[\"Year\"].tolist()\n",
    "marriage_counts = marriage_freq[\"Count\"].tolist()\n",
    "deaths = death_freq[\"Year\"].tolist()\n",
    "death_counts = death_freq[\"Count\"].tolist()\n",
    "\n",
    "  # Creating a timeline bar chart for each dataframe preprocessed above.\n",
    "p = figure(title=\"Timeline of births every year\", toolbar_location=None, tools=\"\", plot_height=700, plot_width=1200,\n",
    "          y_axis_label = \"Number of people\", x_axis_label = \"Year\")\n",
    "p.vbar(x=years, top=year_counts, width=0.7)\n",
    "p.xgrid.grid_line_color = None\n",
    "p.y_range.start = 0\n",
    "\n",
    "\n",
    "p1 = figure(title=\"Timeline of marriages every year\",\n",
    "           toolbar_location=None, tools=\"\", plot_height=700, plot_width=1200,\n",
    "           y_axis_label = \"Number of people\", x_axis_label = \"Year\")\n",
    "p1.vbar(x=marriages, top=marriage_counts, width=0.7)\n",
    "p1.xgrid.grid_line_color = None\n",
    "p1.y_range.start = 0\n",
    "\n",
    "\n",
    "p2 = figure(title=\"Timeline of deaths every year\",\n",
    "           toolbar_location=None, tools=\"\", plot_height=700, plot_width=1200,\n",
    "           y_axis_label = \"Number of people\", x_axis_label = \"Year\")\n",
    "p2.vbar(x=deaths, top=death_counts, width=0.7)\n",
    "p2.xgrid.grid_line_color = None\n",
    "p2.y_range.start = 0\n",
    "\n",
    "  # Creating a tab for each visualization\n",
    "tab = Panel(child=p, title=\"Births per year\")\n",
    "tab1= Panel(child=p1, title=\"Marriages per year\")\n",
    "tab2= Panel(child=p2, title=\"Deaths per year\")\n",
    "\n",
    "tabs = Tabs(tabs=[tab,tab1,tab2])\n",
    "\n",
    "show(tabs)"
   ]
  }
 ],
 "metadata": {
  "kernelspec": {
   "display_name": "Python 3",
   "language": "python",
   "name": "python3"
  },
  "language_info": {
   "codemirror_mode": {
    "name": "ipython",
    "version": 3
   },
   "file_extension": ".py",
   "mimetype": "text/x-python",
   "name": "python",
   "nbconvert_exporter": "python",
   "pygments_lexer": "ipython3",
   "version": "3.7.4"
  }
 },
 "nbformat": 4,
 "nbformat_minor": 2
}
